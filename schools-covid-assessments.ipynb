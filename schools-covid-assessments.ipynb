{
 "cells": [
  {
   "cell_type": "code",
   "execution_count": 11,
   "id": "db1c762d",
   "metadata": {},
   "outputs": [],
   "source": [
    "import pandas as pd\n",
    "import requests\n",
    "import numpy as np"
   ]
  },
  {
   "cell_type": "code",
   "execution_count": 37,
   "id": "0a6ef2ad",
   "metadata": {},
   "outputs": [],
   "source": [
    "URL='https://nycrtspublicportal.azurewebsites.net/data/summary'\n",
    "response=requests.get(URL)"
   ]
  },
  {
   "cell_type": "code",
   "execution_count": 38,
   "id": "825263ac",
   "metadata": {},
   "outputs": [],
   "source": [
    "doc=response.json()"
   ]
  },
  {
   "cell_type": "code",
   "execution_count": 39,
   "id": "43949109",
   "metadata": {},
   "outputs": [],
   "source": [
    "table1=doc[0]\n",
    "table2=doc[1]\n",
    "table3=doc[2]\n",
    "table4=doc[3]"
   ]
  },
  {
   "cell_type": "code",
   "execution_count": 40,
   "id": "0f601f2c",
   "metadata": {},
   "outputs": [],
   "source": [
    "# create a table for reported cases\n",
    "\n",
    "#create an empty list and dictionary\n",
    "table1_list=[]\n",
    "table1_dict={}\n",
    "\n",
    "table1_dict['date']=table1['title']\n",
    "table1_dict['total_reported_cases']=table1['rows'][0][0]\n",
    "table1_dict['total_student_cases']=table1['rows'][0][1]\n",
    "table1_dict['total_staff_cases']=table1['rows'][0][2]\n",
    "\n",
    "table1_list.append(table1_dict)\n",
    "data1=pd.DataFrame(table1_list)"
   ]
  },
  {
   "cell_type": "code",
   "execution_count": 41,
   "id": "9219fdb8",
   "metadata": {},
   "outputs": [],
   "source": [
    "#create an empty list and dictionary\n",
    "table2_list=[]\n",
    "table2_dict={}\n",
    "\n",
    "table2_dict['date']=table2['title']\n",
    "table2_dict['cum_reported_cases']=table2['rows'][0][0]\n",
    "table2_dict['cum_student_cases']=table2['rows'][0][1]\n",
    "table2_dict['cum_staff_cases']=table2['rows'][0][2]\n",
    "\n",
    "table2_list.append(table2_dict)\n",
    "data2=pd.DataFrame(table2_list).replace(\",\",\"\", regex=True)"
   ]
  },
  {
   "cell_type": "code",
   "execution_count": 42,
   "id": "68ad1b80",
   "metadata": {},
   "outputs": [],
   "source": [
    "column_names=[table3['header'][0], table3['header'][1],table3['header'][2],table3['header'][3]]\n",
    "data3=pd.DataFrame(table3['rows'])\n",
    "data3.columns=column_names\n",
    "trans_data3=data3.set_index('Action').T.reset_index().rename(columns={\n",
    "    'index':'doe_dece_schools'}).replace(\",\",\"\", regex=True)\n",
    "trans_data3['date']=trans_data3.doe_dece_schools.str.split('as', expand=True)[0][0].replace('<br>',\"\")"
   ]
  },
  {
   "cell_type": "code",
   "execution_count": 43,
   "id": "f45a46ad",
   "metadata": {},
   "outputs": [],
   "source": [
    "column_names=[table4['header'][0], table4['header'][1],table4['header'][2],table4['header'][3]]\n",
    "data4=pd.DataFrame(table4['rows'])\n",
    "data4.columns=column_names\n",
    "trans_data4=data4.set_index('Action').T.reset_index().rename(columns={\n",
    "    'index':'charter_action'}).replace(\",\",\"\", regex=True)\n",
    "trans_data4['date']=trans_data4.charter_action.str.split('as', expand=True)[0][0].replace('<br>',\"\")\n"
   ]
  },
  {
   "cell_type": "code",
   "execution_count": 44,
   "id": "4fe33559",
   "metadata": {},
   "outputs": [],
   "source": [
    "old_data1=pd.read_csv(\"data/reported_covid_cases.csv\")\n",
    "old_data2=pd.read_csv(\"data/cum_covid_cases.csv\")\n",
    "old_data3=pd.read_csv(\"data/doe_dece_actions.csv\")\n",
    "old_data4=pd.read_csv(\"data/charter_actions.csv\")"
   ]
  },
  {
   "cell_type": "code",
   "execution_count": 45,
   "id": "0205c5f7",
   "metadata": {},
   "outputs": [],
   "source": [
    "merged_data1=pd.concat([data1, old_data1]).reset_index(drop=True).drop_duplicates(subset=['date'])\n",
    "merged_data2=pd.concat([data2, old_data2]).reset_index(drop=True).drop_duplicates(subset=['date'])\n",
    "merged_data3=pd.concat([trans_data3, old_data3]).reset_index(drop=True).drop_duplicates(subset=['date'])\n",
    "merged_data4=pd.concat([trans_data4, old_data4]).reset_index(drop=True).drop_duplicates(subset=['date'])"
   ]
  },
  {
   "cell_type": "code",
   "execution_count": 46,
   "id": "b4ade340",
   "metadata": {},
   "outputs": [],
   "source": [
    "merged_data1.to_csv(\"data/reported_covid_cases.csv\", index=False)\n",
    "merged_data2.to_csv(\"data/cum_covid_cases.csv\", index=False)\n",
    "merged_data3.to_csv('data/doe_dece_actions.csv', index=False)\n",
    "merged_data4.to_csv('data/charter_actions.csv', index=False)"
   ]
  }
 ],
 "metadata": {
  "kernelspec": {
   "display_name": "Python 3",
   "language": "python",
   "name": "python3"
  },
  "language_info": {
   "codemirror_mode": {
    "name": "ipython",
    "version": 3
   },
   "file_extension": ".py",
   "mimetype": "text/x-python",
   "name": "python",
   "nbconvert_exporter": "python",
   "pygments_lexer": "ipython3",
   "version": "3.9.10"
  }
 },
 "nbformat": 4,
 "nbformat_minor": 5
}
